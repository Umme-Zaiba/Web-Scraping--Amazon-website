{
  "nbformat": 4,
  "nbformat_minor": 0,
  "metadata": {
    "colab": {
      "provenance": [],
      "authorship_tag": "ABX9TyPMfCfzdWMrIUMImrEhlzUQ",
      "include_colab_link": true
    },
    "kernelspec": {
      "name": "python3",
      "display_name": "Python 3"
    },
    "language_info": {
      "name": "python"
    }
  },
  "cells": [
    {
      "cell_type": "markdown",
      "metadata": {
        "id": "view-in-github",
        "colab_type": "text"
      },
      "source": [
        "<a href=\"https://colab.research.google.com/github/Umme-Zaiba/Web-Scraping--Amazon-website/blob/main/WS_Amazon.ipynb\" target=\"_parent\"><img src=\"https://colab.research.google.com/assets/colab-badge.svg\" alt=\"Open In Colab\"/></a>"
      ]
    },
    {
      "cell_type": "markdown",
      "source": [
        "# **WEB SCRAPING**\n",
        "\n",
        "---\n",
        "\n",
        "\n",
        "\n",
        "Web scraping is an automatic method to obtain large amounts of data from websites."
      ],
      "metadata": {
        "id": "x0xA-r3Moy-K"
      }
    },
    {
      "cell_type": "code",
      "execution_count": 2,
      "metadata": {
        "id": "yE15CK4amKTt"
      },
      "outputs": [],
      "source": [
        "import requests\n",
        "from bs4 import BeautifulSoup as bs"
      ]
    },
    {
      "cell_type": "code",
      "source": [
        "url = 'https://www.amazon.in/Apple-iPhone-128GB-Space-Black/product-reviews/B0BDJ22G36/ref=cm_cr_dp_d_show_all_btm?ie=UTF8&reviewerType=all_reviews'\n",
        "page = requests.get(url)\n",
        "page"
      ],
      "metadata": {
        "colab": {
          "base_uri": "https://localhost:8080/"
        },
        "id": "UPBVwetgnWEC",
        "outputId": "fdec44db-635b-432d-efb9-37bf5ead41b1"
      },
      "execution_count": 3,
      "outputs": [
        {
          "output_type": "execute_result",
          "data": {
            "text/plain": [
              "<Response [200]>"
            ]
          },
          "metadata": {},
          "execution_count": 3
        }
      ]
    },
    {
      "cell_type": "code",
      "source": [
        "page.content   #prints the source code of the url page"
      ],
      "metadata": {
        "id": "2DeaktjLom2J"
      },
      "execution_count": null,
      "outputs": []
    },
    {
      "cell_type": "code",
      "source": [
        "soup = bs(page.content, 'html.parser')\n",
        "soup # organising our data in html.parser format- readable format"
      ],
      "metadata": {
        "id": "oX8QGs-4qHUW"
      },
      "execution_count": null,
      "outputs": []
    },
    {
      "cell_type": "code",
      "source": [
        "#extract the customer names - 10 per url page as default\n",
        "names = soup.find_all('span', class_ = 'a-profile-name')[2:] #slicing\n",
        "names"
      ],
      "metadata": {
        "colab": {
          "base_uri": "https://localhost:8080/"
        },
        "id": "xbFc7NYYqfWn",
        "outputId": "a1307ede-9b48-468e-866a-db5568a8d07e"
      },
      "execution_count": 6,
      "outputs": [
        {
          "output_type": "execute_result",
          "data": {
            "text/plain": [
              "[<span class=\"a-profile-name\">Mr. M</span>,\n",
              " <span class=\"a-profile-name\">Mr. M</span>,\n",
              " <span class=\"a-profile-name\">Atreyapurapu Radha Madhav</span>,\n",
              " <span class=\"a-profile-name\">Dibyaprakash Pradhan</span>,\n",
              " <span class=\"a-profile-name\">AKASH SHARMA</span>,\n",
              " <span class=\"a-profile-name\">Dibakar</span>,\n",
              " <span class=\"a-profile-name\">Piyush Kumar</span>,\n",
              " <span class=\"a-profile-name\">Piyush Kumar</span>,\n",
              " <span class=\"a-profile-name\">Chaitanya</span>,\n",
              " <span class=\"a-profile-name\">U</span>,\n",
              " <span class=\"a-profile-name\">jitu</span>,\n",
              " <span class=\"a-profile-name\">Sanjeev Singh</span>]"
            ]
          },
          "metadata": {},
          "execution_count": 6
        }
      ]
    },
    {
      "cell_type": "code",
      "source": [
        "len(names)"
      ],
      "metadata": {
        "colab": {
          "base_uri": "https://localhost:8080/"
        },
        "id": "AMCKcBsBrt-r",
        "outputId": "6ff2b9af-4ce9-4788-e6a9-ff665227a3aa"
      },
      "execution_count": 7,
      "outputs": [
        {
          "output_type": "execute_result",
          "data": {
            "text/plain": [
              "12"
            ]
          },
          "metadata": {},
          "execution_count": 7
        }
      ]
    },
    {
      "cell_type": "code",
      "source": [
        "import pandas as pd\n",
        "df= pd.DataFrame(names, columns =['Customer Name'])\n",
        "df"
      ],
      "metadata": {
        "id": "hk7sJUaQsqmQ",
        "colab": {
          "base_uri": "https://localhost:8080/",
          "height": 425
        },
        "outputId": "8c62a117-c7bc-454c-d03f-6775bf4bbaf3"
      },
      "execution_count": 8,
      "outputs": [
        {
          "output_type": "execute_result",
          "data": {
            "text/plain": [
              "                Customer Name\n",
              "0                       Mr. M\n",
              "1                       Mr. M\n",
              "2   Atreyapurapu Radha Madhav\n",
              "3        Dibyaprakash Pradhan\n",
              "4                AKASH SHARMA\n",
              "5                     Dibakar\n",
              "6                Piyush Kumar\n",
              "7                Piyush Kumar\n",
              "8                   Chaitanya\n",
              "9                           U\n",
              "10                       jitu\n",
              "11              Sanjeev Singh"
            ],
            "text/html": [
              "\n",
              "  <div id=\"df-7d8f61c6-d766-482c-a45b-e74e606b6b20\">\n",
              "    <div class=\"colab-df-container\">\n",
              "      <div>\n",
              "<style scoped>\n",
              "    .dataframe tbody tr th:only-of-type {\n",
              "        vertical-align: middle;\n",
              "    }\n",
              "\n",
              "    .dataframe tbody tr th {\n",
              "        vertical-align: top;\n",
              "    }\n",
              "\n",
              "    .dataframe thead th {\n",
              "        text-align: right;\n",
              "    }\n",
              "</style>\n",
              "<table border=\"1\" class=\"dataframe\">\n",
              "  <thead>\n",
              "    <tr style=\"text-align: right;\">\n",
              "      <th></th>\n",
              "      <th>Customer Name</th>\n",
              "    </tr>\n",
              "  </thead>\n",
              "  <tbody>\n",
              "    <tr>\n",
              "      <th>0</th>\n",
              "      <td>Mr. M</td>\n",
              "    </tr>\n",
              "    <tr>\n",
              "      <th>1</th>\n",
              "      <td>Mr. M</td>\n",
              "    </tr>\n",
              "    <tr>\n",
              "      <th>2</th>\n",
              "      <td>Atreyapurapu Radha Madhav</td>\n",
              "    </tr>\n",
              "    <tr>\n",
              "      <th>3</th>\n",
              "      <td>Dibyaprakash Pradhan</td>\n",
              "    </tr>\n",
              "    <tr>\n",
              "      <th>4</th>\n",
              "      <td>AKASH SHARMA</td>\n",
              "    </tr>\n",
              "    <tr>\n",
              "      <th>5</th>\n",
              "      <td>Dibakar</td>\n",
              "    </tr>\n",
              "    <tr>\n",
              "      <th>6</th>\n",
              "      <td>Piyush Kumar</td>\n",
              "    </tr>\n",
              "    <tr>\n",
              "      <th>7</th>\n",
              "      <td>Piyush Kumar</td>\n",
              "    </tr>\n",
              "    <tr>\n",
              "      <th>8</th>\n",
              "      <td>Chaitanya</td>\n",
              "    </tr>\n",
              "    <tr>\n",
              "      <th>9</th>\n",
              "      <td>U</td>\n",
              "    </tr>\n",
              "    <tr>\n",
              "      <th>10</th>\n",
              "      <td>jitu</td>\n",
              "    </tr>\n",
              "    <tr>\n",
              "      <th>11</th>\n",
              "      <td>Sanjeev Singh</td>\n",
              "    </tr>\n",
              "  </tbody>\n",
              "</table>\n",
              "</div>\n",
              "      <button class=\"colab-df-convert\" onclick=\"convertToInteractive('df-7d8f61c6-d766-482c-a45b-e74e606b6b20')\"\n",
              "              title=\"Convert this dataframe to an interactive table.\"\n",
              "              style=\"display:none;\">\n",
              "        \n",
              "  <svg xmlns=\"http://www.w3.org/2000/svg\" height=\"24px\"viewBox=\"0 0 24 24\"\n",
              "       width=\"24px\">\n",
              "    <path d=\"M0 0h24v24H0V0z\" fill=\"none\"/>\n",
              "    <path d=\"M18.56 5.44l.94 2.06.94-2.06 2.06-.94-2.06-.94-.94-2.06-.94 2.06-2.06.94zm-11 1L8.5 8.5l.94-2.06 2.06-.94-2.06-.94L8.5 2.5l-.94 2.06-2.06.94zm10 10l.94 2.06.94-2.06 2.06-.94-2.06-.94-.94-2.06-.94 2.06-2.06.94z\"/><path d=\"M17.41 7.96l-1.37-1.37c-.4-.4-.92-.59-1.43-.59-.52 0-1.04.2-1.43.59L10.3 9.45l-7.72 7.72c-.78.78-.78 2.05 0 2.83L4 21.41c.39.39.9.59 1.41.59.51 0 1.02-.2 1.41-.59l7.78-7.78 2.81-2.81c.8-.78.8-2.07 0-2.86zM5.41 20L4 18.59l7.72-7.72 1.47 1.35L5.41 20z\"/>\n",
              "  </svg>\n",
              "      </button>\n",
              "      \n",
              "  <style>\n",
              "    .colab-df-container {\n",
              "      display:flex;\n",
              "      flex-wrap:wrap;\n",
              "      gap: 12px;\n",
              "    }\n",
              "\n",
              "    .colab-df-convert {\n",
              "      background-color: #E8F0FE;\n",
              "      border: none;\n",
              "      border-radius: 50%;\n",
              "      cursor: pointer;\n",
              "      display: none;\n",
              "      fill: #1967D2;\n",
              "      height: 32px;\n",
              "      padding: 0 0 0 0;\n",
              "      width: 32px;\n",
              "    }\n",
              "\n",
              "    .colab-df-convert:hover {\n",
              "      background-color: #E2EBFA;\n",
              "      box-shadow: 0px 1px 2px rgba(60, 64, 67, 0.3), 0px 1px 3px 1px rgba(60, 64, 67, 0.15);\n",
              "      fill: #174EA6;\n",
              "    }\n",
              "\n",
              "    [theme=dark] .colab-df-convert {\n",
              "      background-color: #3B4455;\n",
              "      fill: #D2E3FC;\n",
              "    }\n",
              "\n",
              "    [theme=dark] .colab-df-convert:hover {\n",
              "      background-color: #434B5C;\n",
              "      box-shadow: 0px 1px 3px 1px rgba(0, 0, 0, 0.15);\n",
              "      filter: drop-shadow(0px 1px 2px rgba(0, 0, 0, 0.3));\n",
              "      fill: #FFFFFF;\n",
              "    }\n",
              "  </style>\n",
              "\n",
              "      <script>\n",
              "        const buttonEl =\n",
              "          document.querySelector('#df-7d8f61c6-d766-482c-a45b-e74e606b6b20 button.colab-df-convert');\n",
              "        buttonEl.style.display =\n",
              "          google.colab.kernel.accessAllowed ? 'block' : 'none';\n",
              "\n",
              "        async function convertToInteractive(key) {\n",
              "          const element = document.querySelector('#df-7d8f61c6-d766-482c-a45b-e74e606b6b20');\n",
              "          const dataTable =\n",
              "            await google.colab.kernel.invokeFunction('convertToInteractive',\n",
              "                                                     [key], {});\n",
              "          if (!dataTable) return;\n",
              "\n",
              "          const docLinkHtml = 'Like what you see? Visit the ' +\n",
              "            '<a target=\"_blank\" href=https://colab.research.google.com/notebooks/data_table.ipynb>data table notebook</a>'\n",
              "            + ' to learn more about interactive tables.';\n",
              "          element.innerHTML = '';\n",
              "          dataTable['output_type'] = 'display_data';\n",
              "          await google.colab.output.renderOutput(dataTable, element);\n",
              "          const docLink = document.createElement('div');\n",
              "          docLink.innerHTML = docLinkHtml;\n",
              "          element.appendChild(docLink);\n",
              "        }\n",
              "      </script>\n",
              "    </div>\n",
              "  </div>\n",
              "  "
            ]
          },
          "metadata": {},
          "execution_count": 8
        }
      ]
    },
    {
      "cell_type": "code",
      "source": [
        "#remove duplicates\n",
        "df=df.drop_duplicates(ignore_index=True)  # for sequence indexing\n",
        "df"
      ],
      "metadata": {
        "colab": {
          "base_uri": "https://localhost:8080/",
          "height": 363
        },
        "id": "W08kBwmDtYhM",
        "outputId": "c836ded7-532d-4748-ea9b-e67230e21fe7"
      },
      "execution_count": 9,
      "outputs": [
        {
          "output_type": "execute_result",
          "data": {
            "text/plain": [
              "               Customer Name\n",
              "0                      Mr. M\n",
              "1  Atreyapurapu Radha Madhav\n",
              "2       Dibyaprakash Pradhan\n",
              "3               AKASH SHARMA\n",
              "4                    Dibakar\n",
              "5               Piyush Kumar\n",
              "6                  Chaitanya\n",
              "7                          U\n",
              "8                       jitu\n",
              "9              Sanjeev Singh"
            ],
            "text/html": [
              "\n",
              "  <div id=\"df-0a896e1d-3ea6-49e4-8a3d-db25fd05d7b2\">\n",
              "    <div class=\"colab-df-container\">\n",
              "      <div>\n",
              "<style scoped>\n",
              "    .dataframe tbody tr th:only-of-type {\n",
              "        vertical-align: middle;\n",
              "    }\n",
              "\n",
              "    .dataframe tbody tr th {\n",
              "        vertical-align: top;\n",
              "    }\n",
              "\n",
              "    .dataframe thead th {\n",
              "        text-align: right;\n",
              "    }\n",
              "</style>\n",
              "<table border=\"1\" class=\"dataframe\">\n",
              "  <thead>\n",
              "    <tr style=\"text-align: right;\">\n",
              "      <th></th>\n",
              "      <th>Customer Name</th>\n",
              "    </tr>\n",
              "  </thead>\n",
              "  <tbody>\n",
              "    <tr>\n",
              "      <th>0</th>\n",
              "      <td>Mr. M</td>\n",
              "    </tr>\n",
              "    <tr>\n",
              "      <th>1</th>\n",
              "      <td>Atreyapurapu Radha Madhav</td>\n",
              "    </tr>\n",
              "    <tr>\n",
              "      <th>2</th>\n",
              "      <td>Dibyaprakash Pradhan</td>\n",
              "    </tr>\n",
              "    <tr>\n",
              "      <th>3</th>\n",
              "      <td>AKASH SHARMA</td>\n",
              "    </tr>\n",
              "    <tr>\n",
              "      <th>4</th>\n",
              "      <td>Dibakar</td>\n",
              "    </tr>\n",
              "    <tr>\n",
              "      <th>5</th>\n",
              "      <td>Piyush Kumar</td>\n",
              "    </tr>\n",
              "    <tr>\n",
              "      <th>6</th>\n",
              "      <td>Chaitanya</td>\n",
              "    </tr>\n",
              "    <tr>\n",
              "      <th>7</th>\n",
              "      <td>U</td>\n",
              "    </tr>\n",
              "    <tr>\n",
              "      <th>8</th>\n",
              "      <td>jitu</td>\n",
              "    </tr>\n",
              "    <tr>\n",
              "      <th>9</th>\n",
              "      <td>Sanjeev Singh</td>\n",
              "    </tr>\n",
              "  </tbody>\n",
              "</table>\n",
              "</div>\n",
              "      <button class=\"colab-df-convert\" onclick=\"convertToInteractive('df-0a896e1d-3ea6-49e4-8a3d-db25fd05d7b2')\"\n",
              "              title=\"Convert this dataframe to an interactive table.\"\n",
              "              style=\"display:none;\">\n",
              "        \n",
              "  <svg xmlns=\"http://www.w3.org/2000/svg\" height=\"24px\"viewBox=\"0 0 24 24\"\n",
              "       width=\"24px\">\n",
              "    <path d=\"M0 0h24v24H0V0z\" fill=\"none\"/>\n",
              "    <path d=\"M18.56 5.44l.94 2.06.94-2.06 2.06-.94-2.06-.94-.94-2.06-.94 2.06-2.06.94zm-11 1L8.5 8.5l.94-2.06 2.06-.94-2.06-.94L8.5 2.5l-.94 2.06-2.06.94zm10 10l.94 2.06.94-2.06 2.06-.94-2.06-.94-.94-2.06-.94 2.06-2.06.94z\"/><path d=\"M17.41 7.96l-1.37-1.37c-.4-.4-.92-.59-1.43-.59-.52 0-1.04.2-1.43.59L10.3 9.45l-7.72 7.72c-.78.78-.78 2.05 0 2.83L4 21.41c.39.39.9.59 1.41.59.51 0 1.02-.2 1.41-.59l7.78-7.78 2.81-2.81c.8-.78.8-2.07 0-2.86zM5.41 20L4 18.59l7.72-7.72 1.47 1.35L5.41 20z\"/>\n",
              "  </svg>\n",
              "      </button>\n",
              "      \n",
              "  <style>\n",
              "    .colab-df-container {\n",
              "      display:flex;\n",
              "      flex-wrap:wrap;\n",
              "      gap: 12px;\n",
              "    }\n",
              "\n",
              "    .colab-df-convert {\n",
              "      background-color: #E8F0FE;\n",
              "      border: none;\n",
              "      border-radius: 50%;\n",
              "      cursor: pointer;\n",
              "      display: none;\n",
              "      fill: #1967D2;\n",
              "      height: 32px;\n",
              "      padding: 0 0 0 0;\n",
              "      width: 32px;\n",
              "    }\n",
              "\n",
              "    .colab-df-convert:hover {\n",
              "      background-color: #E2EBFA;\n",
              "      box-shadow: 0px 1px 2px rgba(60, 64, 67, 0.3), 0px 1px 3px 1px rgba(60, 64, 67, 0.15);\n",
              "      fill: #174EA6;\n",
              "    }\n",
              "\n",
              "    [theme=dark] .colab-df-convert {\n",
              "      background-color: #3B4455;\n",
              "      fill: #D2E3FC;\n",
              "    }\n",
              "\n",
              "    [theme=dark] .colab-df-convert:hover {\n",
              "      background-color: #434B5C;\n",
              "      box-shadow: 0px 1px 3px 1px rgba(0, 0, 0, 0.15);\n",
              "      filter: drop-shadow(0px 1px 2px rgba(0, 0, 0, 0.3));\n",
              "      fill: #FFFFFF;\n",
              "    }\n",
              "  </style>\n",
              "\n",
              "      <script>\n",
              "        const buttonEl =\n",
              "          document.querySelector('#df-0a896e1d-3ea6-49e4-8a3d-db25fd05d7b2 button.colab-df-convert');\n",
              "        buttonEl.style.display =\n",
              "          google.colab.kernel.accessAllowed ? 'block' : 'none';\n",
              "\n",
              "        async function convertToInteractive(key) {\n",
              "          const element = document.querySelector('#df-0a896e1d-3ea6-49e4-8a3d-db25fd05d7b2');\n",
              "          const dataTable =\n",
              "            await google.colab.kernel.invokeFunction('convertToInteractive',\n",
              "                                                     [key], {});\n",
              "          if (!dataTable) return;\n",
              "\n",
              "          const docLinkHtml = 'Like what you see? Visit the ' +\n",
              "            '<a target=\"_blank\" href=https://colab.research.google.com/notebooks/data_table.ipynb>data table notebook</a>'\n",
              "            + ' to learn more about interactive tables.';\n",
              "          element.innerHTML = '';\n",
              "          dataTable['output_type'] = 'display_data';\n",
              "          await google.colab.output.renderOutput(dataTable, element);\n",
              "          const docLink = document.createElement('div');\n",
              "          docLink.innerHTML = docLinkHtml;\n",
              "          element.appendChild(docLink);\n",
              "        }\n",
              "      </script>\n",
              "    </div>\n",
              "  </div>\n",
              "  "
            ]
          },
          "metadata": {},
          "execution_count": 9
        }
      ]
    },
    {
      "cell_type": "markdown",
      "source": [
        "Scrape the review title"
      ],
      "metadata": {
        "id": "F5Evnbmnucjl"
      }
    },
    {
      "cell_type": "code",
      "source": [
        "r_title = soup.find_all('a', class_ = 'review-title')\n",
        "r_title"
      ],
      "metadata": {
        "colab": {
          "base_uri": "https://localhost:8080/"
        },
        "id": "QyzfiARLua4V",
        "outputId": "d2f59be9-a34b-4f60-af90-88fd95c2eaa5"
      },
      "execution_count": 10,
      "outputs": [
        {
          "output_type": "execute_result",
          "data": {
            "text/plain": [
              "[<a class=\"a-size-base a-link-normal review-title a-color-base review-title-content a-text-bold\" data-hook=\"review-title\" href=\"/gp/customer-reviews/R17P1DM00FSJKF?ASIN=B0BDJ22G36\">\n",
              " <span>Great</span>\n",
              " </a>,\n",
              " <a class=\"a-size-base a-link-normal review-title a-color-base review-title-content a-text-bold\" data-hook=\"review-title\" href=\"/gp/customer-reviews/R2GMNHGLNG3OE9?ASIN=B0BDJ22G36\">\n",
              " <span>Most Trusted Online Site</span>\n",
              " </a>,\n",
              " <a class=\"a-size-base a-link-normal review-title a-color-base review-title-content a-text-bold\" data-hook=\"review-title\" href=\"/gp/customer-reviews/R39MJ9X8D45COR?ASIN=B0BDJ22G36\">\n",
              " <span>True Value</span>\n",
              " </a>,\n",
              " <a class=\"a-size-base a-link-normal review-title a-color-base review-title-content a-text-bold\" data-hook=\"review-title\" href=\"/gp/customer-reviews/R25FKA539B9KLN?ASIN=B0BDJ22G36\">\n",
              " <span>Android is better when it comes to os</span>\n",
              " </a>,\n",
              " <a class=\"a-size-base a-link-normal review-title a-color-base review-title-content a-text-bold\" data-hook=\"review-title\" href=\"/gp/customer-reviews/R12HH78P4B86WS?ASIN=B0BDJ22G36\">\n",
              " <span>Nothing can compete with this IMO</span>\n",
              " </a>,\n",
              " <a class=\"a-size-base a-link-normal review-title a-color-base review-title-content a-text-bold\" data-hook=\"review-title\" href=\"/gp/customer-reviews/RLAFJZECGY4G2?ASIN=B0BDJ22G36\">\n",
              " <span>Luxury and high Premium Phone</span>\n",
              " </a>,\n",
              " <a class=\"a-size-base a-link-normal review-title a-color-base review-title-content a-text-bold\" data-hook=\"review-title\" href=\"/gp/customer-reviews/R2WWNIY2JTZPIX?ASIN=B0BDJ22G36\">\n",
              " <span>Not so impressive</span>\n",
              " </a>,\n",
              " <a class=\"a-size-base a-link-normal review-title a-color-base review-title-content a-text-bold\" data-hook=\"review-title\" href=\"/gp/customer-reviews/RLH4AVEK1M5A5?ASIN=B0BDJ22G36\">\n",
              " <span>The Best You’ll Get</span>\n",
              " </a>,\n",
              " <a class=\"a-size-base a-link-normal review-title a-color-base review-title-content a-text-bold\" data-hook=\"review-title\" href=\"/gp/customer-reviews/R1XJU6N9NUP4AV?ASIN=B0BDJ22G36\">\n",
              " <span>Wonder full .thats so pretty</span>\n",
              " </a>,\n",
              " <a class=\"a-size-base a-link-normal review-title a-color-base review-title-content a-text-bold\" data-hook=\"review-title\" href=\"/gp/customer-reviews/R3JRBIVHT0K7Y4?ASIN=B0BDJ22G36\">\n",
              " <span>Camera</span>\n",
              " </a>]"
            ]
          },
          "metadata": {},
          "execution_count": 10
        }
      ]
    },
    {
      "cell_type": "code",
      "source": [
        "len(r_title)"
      ],
      "metadata": {
        "colab": {
          "base_uri": "https://localhost:8080/"
        },
        "id": "zcx8C-Y-vVKF",
        "outputId": "a3f95ed9-a554-4c27-ab72-6dd95594e25e"
      },
      "execution_count": 11,
      "outputs": [
        {
          "output_type": "execute_result",
          "data": {
            "text/plain": [
              "10"
            ]
          },
          "metadata": {},
          "execution_count": 11
        }
      ]
    },
    {
      "cell_type": "markdown",
      "source": [
        "DATA CLEANING / DATA FILTERATION"
      ],
      "metadata": {
        "id": "90HyqqUXvbOC"
      }
    },
    {
      "cell_type": "code",
      "source": [
        "review_title = []\n",
        "for i in range(0,len(r_title)):\n",
        "  review_title.append(r_title[i].get_text()[1:-1])\n",
        "review_title"
      ],
      "metadata": {
        "colab": {
          "base_uri": "https://localhost:8080/"
        },
        "id": "tXhQMXYavaIx",
        "outputId": "392ae05d-94df-4fc0-ea1d-a06888539e7c"
      },
      "execution_count": 12,
      "outputs": [
        {
          "output_type": "execute_result",
          "data": {
            "text/plain": [
              "['Great',\n",
              " 'Most Trusted Online Site',\n",
              " 'True Value',\n",
              " 'Android is better when it comes to os',\n",
              " 'Nothing can compete with this IMO',\n",
              " 'Luxury and high Premium Phone',\n",
              " 'Not so impressive',\n",
              " 'The Best You’ll Get',\n",
              " 'Wonder full .thats so pretty',\n",
              " 'Camera']"
            ]
          },
          "metadata": {},
          "execution_count": 12
        }
      ]
    },
    {
      "cell_type": "markdown",
      "source": [
        "SCRAPE THE REVIEW DATES"
      ],
      "metadata": {
        "id": "Q9ynLfNFwgzx"
      }
    },
    {
      "cell_type": "code",
      "source": [
        "dates=soup.find_all('span', class_='review-date')[2:]\n",
        "dates"
      ],
      "metadata": {
        "id": "Bj46gyCKwLPR",
        "colab": {
          "base_uri": "https://localhost:8080/"
        },
        "outputId": "35ae1503-3951-474c-e55e-c0b41084ae35"
      },
      "execution_count": 13,
      "outputs": [
        {
          "output_type": "execute_result",
          "data": {
            "text/plain": [
              "[<span class=\"a-size-base a-color-secondary review-date\" data-hook=\"review-date\">Reviewed in India 🇮🇳 on 25 January 2023</span>,\n",
              " <span class=\"a-size-base a-color-secondary review-date\" data-hook=\"review-date\">Reviewed in India 🇮🇳 on 8 May 2023</span>,\n",
              " <span class=\"a-size-base a-color-secondary review-date\" data-hook=\"review-date\">Reviewed in India 🇮🇳 on 10 May 2023</span>,\n",
              " <span class=\"a-size-base a-color-secondary review-date\" data-hook=\"review-date\">Reviewed in India 🇮🇳 on 18 April 2023</span>,\n",
              " <span class=\"a-size-base a-color-secondary review-date\" data-hook=\"review-date\">Reviewed in India 🇮🇳 on 2 May 2023</span>,\n",
              " <span class=\"a-size-base a-color-secondary review-date\" data-hook=\"review-date\">Reviewed in India 🇮🇳 on 2 May 2023</span>,\n",
              " <span class=\"a-size-base a-color-secondary review-date\" data-hook=\"review-date\">Reviewed in India 🇮🇳 on 30 April 2023</span>,\n",
              " <span class=\"a-size-base a-color-secondary review-date\" data-hook=\"review-date\">Reviewed in India 🇮🇳 on 22 April 2023</span>,\n",
              " <span class=\"a-size-base a-color-secondary review-date\" data-hook=\"review-date\">Reviewed in India 🇮🇳 on 5 March 2023</span>,\n",
              " <span class=\"a-size-base a-color-secondary review-date\" data-hook=\"review-date\">Reviewed in India 🇮🇳 on 7 April 2023</span>]"
            ]
          },
          "metadata": {},
          "execution_count": 13
        }
      ]
    },
    {
      "cell_type": "code",
      "source": [
        "len(dates)"
      ],
      "metadata": {
        "colab": {
          "base_uri": "https://localhost:8080/"
        },
        "id": "wRjCWkHLxl7t",
        "outputId": "1c6a7105-234f-4add-9857-eec514d4d38b"
      },
      "execution_count": 14,
      "outputs": [
        {
          "output_type": "execute_result",
          "data": {
            "text/plain": [
              "10"
            ]
          },
          "metadata": {},
          "execution_count": 14
        }
      ]
    },
    {
      "cell_type": "markdown",
      "source": [
        "data cleaning"
      ],
      "metadata": {
        "id": "IV2YaiBwxuAq"
      }
    },
    {
      "cell_type": "code",
      "source": [
        "review_date =[]\n",
        "for i in range(0, len(dates)):\n",
        "  review_date.append(dates[i].get_text().replace('Reviewed in India 🇮🇳 on',''))\n",
        "review_date  "
      ],
      "metadata": {
        "colab": {
          "base_uri": "https://localhost:8080/"
        },
        "id": "rAh-S4jDxtCq",
        "outputId": "0201f98f-864c-4e86-af62-c0324a2c0024"
      },
      "execution_count": 15,
      "outputs": [
        {
          "output_type": "execute_result",
          "data": {
            "text/plain": [
              "[' 25 January 2023',\n",
              " ' 8 May 2023',\n",
              " ' 10 May 2023',\n",
              " ' 18 April 2023',\n",
              " ' 2 May 2023',\n",
              " ' 2 May 2023',\n",
              " ' 30 April 2023',\n",
              " ' 22 April 2023',\n",
              " ' 5 March 2023',\n",
              " ' 7 April 2023']"
            ]
          },
          "metadata": {},
          "execution_count": 15
        }
      ]
    },
    {
      "cell_type": "code",
      "source": [
        "#review-stars , review content"
      ],
      "metadata": {
        "id": "yfnG45r-0P_i"
      },
      "execution_count": 16,
      "outputs": []
    },
    {
      "cell_type": "markdown",
      "source": [
        "SCRAPE THE REVIEW STARS"
      ],
      "metadata": {
        "id": "6L-u-IcS0lXI"
      }
    },
    {
      "cell_type": "code",
      "source": [
        "rating=soup.find_all('i', class_ = 'review-rating')[2:]\n",
        "rating"
      ],
      "metadata": {
        "colab": {
          "base_uri": "https://localhost:8080/"
        },
        "id": "iFcaERWR0pf_",
        "outputId": "745dad86-1cf1-450a-c9bf-71721f676d86"
      },
      "execution_count": 31,
      "outputs": [
        {
          "output_type": "execute_result",
          "data": {
            "text/plain": [
              "[<i class=\"a-icon a-icon-star a-star-5 review-rating\" data-hook=\"review-star-rating\"><span class=\"a-icon-alt\">5.0 out of 5 stars</span></i>,\n",
              " <i class=\"a-icon a-icon-star a-star-5 review-rating\" data-hook=\"review-star-rating\"><span class=\"a-icon-alt\">5.0 out of 5 stars</span></i>,\n",
              " <i class=\"a-icon a-icon-star a-star-5 review-rating\" data-hook=\"review-star-rating\"><span class=\"a-icon-alt\">5.0 out of 5 stars</span></i>,\n",
              " <i class=\"a-icon a-icon-star a-star-4 review-rating\" data-hook=\"review-star-rating\"><span class=\"a-icon-alt\">4.0 out of 5 stars</span></i>,\n",
              " <i class=\"a-icon a-icon-star a-star-5 review-rating\" data-hook=\"review-star-rating\"><span class=\"a-icon-alt\">5.0 out of 5 stars</span></i>,\n",
              " <i class=\"a-icon a-icon-star a-star-5 review-rating\" data-hook=\"review-star-rating\"><span class=\"a-icon-alt\">5.0 out of 5 stars</span></i>,\n",
              " <i class=\"a-icon a-icon-star a-star-3 review-rating\" data-hook=\"review-star-rating\"><span class=\"a-icon-alt\">3.0 out of 5 stars</span></i>,\n",
              " <i class=\"a-icon a-icon-star a-star-5 review-rating\" data-hook=\"review-star-rating\"><span class=\"a-icon-alt\">5.0 out of 5 stars</span></i>,\n",
              " <i class=\"a-icon a-icon-star a-star-4 review-rating\" data-hook=\"review-star-rating\"><span class=\"a-icon-alt\">4.0 out of 5 stars</span></i>,\n",
              " <i class=\"a-icon a-icon-star a-star-5 review-rating\" data-hook=\"review-star-rating\"><span class=\"a-icon-alt\">5.0 out of 5 stars</span></i>]"
            ]
          },
          "metadata": {},
          "execution_count": 31
        }
      ]
    },
    {
      "cell_type": "code",
      "source": [
        "len(rating)"
      ],
      "metadata": {
        "colab": {
          "base_uri": "https://localhost:8080/"
        },
        "id": "zre-TT041kS3",
        "outputId": "89f9a269-4483-47fd-8c3d-45dc00185675"
      },
      "execution_count": 32,
      "outputs": [
        {
          "output_type": "execute_result",
          "data": {
            "text/plain": [
              "10"
            ]
          },
          "metadata": {},
          "execution_count": 32
        }
      ]
    },
    {
      "cell_type": "markdown",
      "source": [
        "Data cleaning"
      ],
      "metadata": {
        "id": "4yV6GTKWj1Ml"
      }
    },
    {
      "cell_type": "code",
      "source": [
        "review_rating =[]\n",
        "for i in range (0,len(rating)):\n",
        "  review_rating.append(rating[i].get_text())\n",
        "review_rating  "
      ],
      "metadata": {
        "colab": {
          "base_uri": "https://localhost:8080/"
        },
        "id": "NZ7y8fjFj0K3",
        "outputId": "5c1bbdf5-3ee1-4c0f-ff10-95e219dad62f"
      },
      "execution_count": 33,
      "outputs": [
        {
          "output_type": "execute_result",
          "data": {
            "text/plain": [
              "['5.0 out of 5 stars',\n",
              " '5.0 out of 5 stars',\n",
              " '5.0 out of 5 stars',\n",
              " '4.0 out of 5 stars',\n",
              " '5.0 out of 5 stars',\n",
              " '5.0 out of 5 stars',\n",
              " '3.0 out of 5 stars',\n",
              " '5.0 out of 5 stars',\n",
              " '4.0 out of 5 stars',\n",
              " '5.0 out of 5 stars']"
            ]
          },
          "metadata": {},
          "execution_count": 33
        }
      ]
    },
    {
      "cell_type": "markdown",
      "source": [
        "Scrape the review content"
      ],
      "metadata": {
        "id": "lHnLLZaykJax"
      }
    },
    {
      "cell_type": "code",
      "source": [
        "content=soup.find_all('span', class_ = 'review-text')\n",
        "content"
      ],
      "metadata": {
        "id": "URCgz4aMkIsF"
      },
      "execution_count": null,
      "outputs": []
    },
    {
      "cell_type": "code",
      "source": [
        "len(content)"
      ],
      "metadata": {
        "colab": {
          "base_uri": "https://localhost:8080/"
        },
        "id": "o0CuwW47ktk1",
        "outputId": "df113e0f-b505-46e2-b0cd-ba53b2e7e820"
      },
      "execution_count": 24,
      "outputs": [
        {
          "output_type": "execute_result",
          "data": {
            "text/plain": [
              "10"
            ]
          },
          "metadata": {},
          "execution_count": 24
        }
      ]
    },
    {
      "cell_type": "markdown",
      "source": [
        "Data cleaning"
      ],
      "metadata": {
        "id": "tZlpwk4-lIF_"
      }
    },
    {
      "cell_type": "code",
      "source": [
        "review_content =[]\n",
        "for i in range(0, len(content)):\n",
        "  review_content.append(content[i].get_text().replace('\\n',''))\n",
        "review_content  "
      ],
      "metadata": {
        "id": "vqA9NgyOkzAt"
      },
      "execution_count": null,
      "outputs": []
    },
    {
      "cell_type": "code",
      "source": [
        "df['Review title']= review_title\n",
        "df['Review date'] = review_date\n",
        "df['Review rating'] = review_rating\n",
        "df['Review content'] = review_content\n",
        "df"
      ],
      "metadata": {
        "colab": {
          "base_uri": "https://localhost:8080/",
          "height": 1000
        },
        "id": "kSLHsyOylMYb",
        "outputId": "c3827504-a26e-47fa-ae06-52f46057be85"
      },
      "execution_count": 35,
      "outputs": [
        {
          "output_type": "stream",
          "name": "stderr",
          "text": [
            "<ipython-input-35-41cdf788073b>:1: SettingWithCopyWarning: \n",
            "A value is trying to be set on a copy of a slice from a DataFrame.\n",
            "Try using .loc[row_indexer,col_indexer] = value instead\n",
            "\n",
            "See the caveats in the documentation: https://pandas.pydata.org/pandas-docs/stable/user_guide/indexing.html#returning-a-view-versus-a-copy\n",
            "  df['Review title']= review_title\n",
            "<ipython-input-35-41cdf788073b>:2: SettingWithCopyWarning: \n",
            "A value is trying to be set on a copy of a slice from a DataFrame.\n",
            "Try using .loc[row_indexer,col_indexer] = value instead\n",
            "\n",
            "See the caveats in the documentation: https://pandas.pydata.org/pandas-docs/stable/user_guide/indexing.html#returning-a-view-versus-a-copy\n",
            "  df['Review date'] = review_date\n",
            "<ipython-input-35-41cdf788073b>:3: SettingWithCopyWarning: \n",
            "A value is trying to be set on a copy of a slice from a DataFrame.\n",
            "Try using .loc[row_indexer,col_indexer] = value instead\n",
            "\n",
            "See the caveats in the documentation: https://pandas.pydata.org/pandas-docs/stable/user_guide/indexing.html#returning-a-view-versus-a-copy\n",
            "  df['Review rating'] = review_rating\n",
            "<ipython-input-35-41cdf788073b>:4: SettingWithCopyWarning: \n",
            "A value is trying to be set on a copy of a slice from a DataFrame.\n",
            "Try using .loc[row_indexer,col_indexer] = value instead\n",
            "\n",
            "See the caveats in the documentation: https://pandas.pydata.org/pandas-docs/stable/user_guide/indexing.html#returning-a-view-versus-a-copy\n",
            "  df['Review content'] = review_content\n"
          ]
        },
        {
          "output_type": "execute_result",
          "data": {
            "text/plain": [
              "               Customer Name                           Review title  \\\n",
              "0                      Mr. M                                  Great   \n",
              "1  Atreyapurapu Radha Madhav               Most Trusted Online Site   \n",
              "2       Dibyaprakash Pradhan                             True Value   \n",
              "3               AKASH SHARMA  Android is better when it comes to os   \n",
              "4                    Dibakar      Nothing can compete with this IMO   \n",
              "5               Piyush Kumar          Luxury and high Premium Phone   \n",
              "6                  Chaitanya                      Not so impressive   \n",
              "7                          U                    The Best You’ll Get   \n",
              "8                       jitu           Wonder full .thats so pretty   \n",
              "9              Sanjeev Singh                                 Camera   \n",
              "\n",
              "        Review date       Review rating  \\\n",
              "0   25 January 2023  5.0 out of 5 stars   \n",
              "1        8 May 2023  5.0 out of 5 stars   \n",
              "2       10 May 2023  5.0 out of 5 stars   \n",
              "3     18 April 2023  4.0 out of 5 stars   \n",
              "4        2 May 2023  5.0 out of 5 stars   \n",
              "5        2 May 2023  5.0 out of 5 stars   \n",
              "6     30 April 2023  3.0 out of 5 stars   \n",
              "7     22 April 2023  5.0 out of 5 stars   \n",
              "8      5 March 2023  4.0 out of 5 stars   \n",
              "9      7 April 2023  5.0 out of 5 stars   \n",
              "\n",
              "                                      review-content  \\\n",
              "0  Apple hasn’t made any bones about the fact tha...   \n",
              "1  Trust the product delivery on time and correct...   \n",
              "2          Premium experience, monstrous performance   \n",
              "3  Switched to iphone from android and i miss som...   \n",
              "4  Nothing can compete with this IMO best phone i...   \n",
              "5                      The media could not be loa...   \n",
              "6  It’s okay .. okay product the cam is not so go...   \n",
              "7  It’s super fast, the camera is unparalleled an...   \n",
              "8                                               Good   \n",
              "9                                          Very nice   \n",
              "\n",
              "                                      Review content  \n",
              "0  Apple hasn’t made any bones about the fact tha...  \n",
              "1  Trust the product delivery on time and correct...  \n",
              "2          Premium experience, monstrous performance  \n",
              "3  Switched to iphone from android and i miss som...  \n",
              "4  Nothing can compete with this IMO best phone i...  \n",
              "5                      The media could not be loa...  \n",
              "6  It’s okay .. okay product the cam is not so go...  \n",
              "7  It’s super fast, the camera is unparalleled an...  \n",
              "8                                               Good  \n",
              "9                                          Very nice  "
            ],
            "text/html": [
              "\n",
              "  <div id=\"df-6c8255f6-c214-4371-93c5-5e9a83782d64\">\n",
              "    <div class=\"colab-df-container\">\n",
              "      <div>\n",
              "<style scoped>\n",
              "    .dataframe tbody tr th:only-of-type {\n",
              "        vertical-align: middle;\n",
              "    }\n",
              "\n",
              "    .dataframe tbody tr th {\n",
              "        vertical-align: top;\n",
              "    }\n",
              "\n",
              "    .dataframe thead th {\n",
              "        text-align: right;\n",
              "    }\n",
              "</style>\n",
              "<table border=\"1\" class=\"dataframe\">\n",
              "  <thead>\n",
              "    <tr style=\"text-align: right;\">\n",
              "      <th></th>\n",
              "      <th>Customer Name</th>\n",
              "      <th>Review title</th>\n",
              "      <th>Review date</th>\n",
              "      <th>Review rating</th>\n",
              "      <th>review-content</th>\n",
              "      <th>Review content</th>\n",
              "    </tr>\n",
              "  </thead>\n",
              "  <tbody>\n",
              "    <tr>\n",
              "      <th>0</th>\n",
              "      <td>Mr. M</td>\n",
              "      <td>Great</td>\n",
              "      <td>25 January 2023</td>\n",
              "      <td>5.0 out of 5 stars</td>\n",
              "      <td>Apple hasn’t made any bones about the fact tha...</td>\n",
              "      <td>Apple hasn’t made any bones about the fact tha...</td>\n",
              "    </tr>\n",
              "    <tr>\n",
              "      <th>1</th>\n",
              "      <td>Atreyapurapu Radha Madhav</td>\n",
              "      <td>Most Trusted Online Site</td>\n",
              "      <td>8 May 2023</td>\n",
              "      <td>5.0 out of 5 stars</td>\n",
              "      <td>Trust the product delivery on time and correct...</td>\n",
              "      <td>Trust the product delivery on time and correct...</td>\n",
              "    </tr>\n",
              "    <tr>\n",
              "      <th>2</th>\n",
              "      <td>Dibyaprakash Pradhan</td>\n",
              "      <td>True Value</td>\n",
              "      <td>10 May 2023</td>\n",
              "      <td>5.0 out of 5 stars</td>\n",
              "      <td>Premium experience, monstrous performance</td>\n",
              "      <td>Premium experience, monstrous performance</td>\n",
              "    </tr>\n",
              "    <tr>\n",
              "      <th>3</th>\n",
              "      <td>AKASH SHARMA</td>\n",
              "      <td>Android is better when it comes to os</td>\n",
              "      <td>18 April 2023</td>\n",
              "      <td>4.0 out of 5 stars</td>\n",
              "      <td>Switched to iphone from android and i miss som...</td>\n",
              "      <td>Switched to iphone from android and i miss som...</td>\n",
              "    </tr>\n",
              "    <tr>\n",
              "      <th>4</th>\n",
              "      <td>Dibakar</td>\n",
              "      <td>Nothing can compete with this IMO</td>\n",
              "      <td>2 May 2023</td>\n",
              "      <td>5.0 out of 5 stars</td>\n",
              "      <td>Nothing can compete with this IMO best phone i...</td>\n",
              "      <td>Nothing can compete with this IMO best phone i...</td>\n",
              "    </tr>\n",
              "    <tr>\n",
              "      <th>5</th>\n",
              "      <td>Piyush Kumar</td>\n",
              "      <td>Luxury and high Premium Phone</td>\n",
              "      <td>2 May 2023</td>\n",
              "      <td>5.0 out of 5 stars</td>\n",
              "      <td>The media could not be loa...</td>\n",
              "      <td>The media could not be loa...</td>\n",
              "    </tr>\n",
              "    <tr>\n",
              "      <th>6</th>\n",
              "      <td>Chaitanya</td>\n",
              "      <td>Not so impressive</td>\n",
              "      <td>30 April 2023</td>\n",
              "      <td>3.0 out of 5 stars</td>\n",
              "      <td>It’s okay .. okay product the cam is not so go...</td>\n",
              "      <td>It’s okay .. okay product the cam is not so go...</td>\n",
              "    </tr>\n",
              "    <tr>\n",
              "      <th>7</th>\n",
              "      <td>U</td>\n",
              "      <td>The Best You’ll Get</td>\n",
              "      <td>22 April 2023</td>\n",
              "      <td>5.0 out of 5 stars</td>\n",
              "      <td>It’s super fast, the camera is unparalleled an...</td>\n",
              "      <td>It’s super fast, the camera is unparalleled an...</td>\n",
              "    </tr>\n",
              "    <tr>\n",
              "      <th>8</th>\n",
              "      <td>jitu</td>\n",
              "      <td>Wonder full .thats so pretty</td>\n",
              "      <td>5 March 2023</td>\n",
              "      <td>4.0 out of 5 stars</td>\n",
              "      <td>Good</td>\n",
              "      <td>Good</td>\n",
              "    </tr>\n",
              "    <tr>\n",
              "      <th>9</th>\n",
              "      <td>Sanjeev Singh</td>\n",
              "      <td>Camera</td>\n",
              "      <td>7 April 2023</td>\n",
              "      <td>5.0 out of 5 stars</td>\n",
              "      <td>Very nice</td>\n",
              "      <td>Very nice</td>\n",
              "    </tr>\n",
              "  </tbody>\n",
              "</table>\n",
              "</div>\n",
              "      <button class=\"colab-df-convert\" onclick=\"convertToInteractive('df-6c8255f6-c214-4371-93c5-5e9a83782d64')\"\n",
              "              title=\"Convert this dataframe to an interactive table.\"\n",
              "              style=\"display:none;\">\n",
              "        \n",
              "  <svg xmlns=\"http://www.w3.org/2000/svg\" height=\"24px\"viewBox=\"0 0 24 24\"\n",
              "       width=\"24px\">\n",
              "    <path d=\"M0 0h24v24H0V0z\" fill=\"none\"/>\n",
              "    <path d=\"M18.56 5.44l.94 2.06.94-2.06 2.06-.94-2.06-.94-.94-2.06-.94 2.06-2.06.94zm-11 1L8.5 8.5l.94-2.06 2.06-.94-2.06-.94L8.5 2.5l-.94 2.06-2.06.94zm10 10l.94 2.06.94-2.06 2.06-.94-2.06-.94-.94-2.06-.94 2.06-2.06.94z\"/><path d=\"M17.41 7.96l-1.37-1.37c-.4-.4-.92-.59-1.43-.59-.52 0-1.04.2-1.43.59L10.3 9.45l-7.72 7.72c-.78.78-.78 2.05 0 2.83L4 21.41c.39.39.9.59 1.41.59.51 0 1.02-.2 1.41-.59l7.78-7.78 2.81-2.81c.8-.78.8-2.07 0-2.86zM5.41 20L4 18.59l7.72-7.72 1.47 1.35L5.41 20z\"/>\n",
              "  </svg>\n",
              "      </button>\n",
              "      \n",
              "  <style>\n",
              "    .colab-df-container {\n",
              "      display:flex;\n",
              "      flex-wrap:wrap;\n",
              "      gap: 12px;\n",
              "    }\n",
              "\n",
              "    .colab-df-convert {\n",
              "      background-color: #E8F0FE;\n",
              "      border: none;\n",
              "      border-radius: 50%;\n",
              "      cursor: pointer;\n",
              "      display: none;\n",
              "      fill: #1967D2;\n",
              "      height: 32px;\n",
              "      padding: 0 0 0 0;\n",
              "      width: 32px;\n",
              "    }\n",
              "\n",
              "    .colab-df-convert:hover {\n",
              "      background-color: #E2EBFA;\n",
              "      box-shadow: 0px 1px 2px rgba(60, 64, 67, 0.3), 0px 1px 3px 1px rgba(60, 64, 67, 0.15);\n",
              "      fill: #174EA6;\n",
              "    }\n",
              "\n",
              "    [theme=dark] .colab-df-convert {\n",
              "      background-color: #3B4455;\n",
              "      fill: #D2E3FC;\n",
              "    }\n",
              "\n",
              "    [theme=dark] .colab-df-convert:hover {\n",
              "      background-color: #434B5C;\n",
              "      box-shadow: 0px 1px 3px 1px rgba(0, 0, 0, 0.15);\n",
              "      filter: drop-shadow(0px 1px 2px rgba(0, 0, 0, 0.3));\n",
              "      fill: #FFFFFF;\n",
              "    }\n",
              "  </style>\n",
              "\n",
              "      <script>\n",
              "        const buttonEl =\n",
              "          document.querySelector('#df-6c8255f6-c214-4371-93c5-5e9a83782d64 button.colab-df-convert');\n",
              "        buttonEl.style.display =\n",
              "          google.colab.kernel.accessAllowed ? 'block' : 'none';\n",
              "\n",
              "        async function convertToInteractive(key) {\n",
              "          const element = document.querySelector('#df-6c8255f6-c214-4371-93c5-5e9a83782d64');\n",
              "          const dataTable =\n",
              "            await google.colab.kernel.invokeFunction('convertToInteractive',\n",
              "                                                     [key], {});\n",
              "          if (!dataTable) return;\n",
              "\n",
              "          const docLinkHtml = 'Like what you see? Visit the ' +\n",
              "            '<a target=\"_blank\" href=https://colab.research.google.com/notebooks/data_table.ipynb>data table notebook</a>'\n",
              "            + ' to learn more about interactive tables.';\n",
              "          element.innerHTML = '';\n",
              "          dataTable['output_type'] = 'display_data';\n",
              "          await google.colab.output.renderOutput(dataTable, element);\n",
              "          const docLink = document.createElement('div');\n",
              "          docLink.innerHTML = docLinkHtml;\n",
              "          element.appendChild(docLink);\n",
              "        }\n",
              "      </script>\n",
              "    </div>\n",
              "  </div>\n",
              "  "
            ]
          },
          "metadata": {},
          "execution_count": 35
        }
      ]
    },
    {
      "cell_type": "code",
      "source": [
        "df.to_csv('amazon.csv')"
      ],
      "metadata": {
        "id": "fxWcqm08myRJ"
      },
      "execution_count": 36,
      "outputs": []
    }
  ]
}